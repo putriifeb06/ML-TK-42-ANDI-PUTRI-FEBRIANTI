{
  "nbformat": 4,
  "nbformat_minor": 0,
  "metadata": {
    "colab": {
      "name": "UAS regularization.ipynb",
      "provenance": [],
      "collapsed_sections": [],
      "include_colab_link": true
    },
    "kernelspec": {
      "name": "python3",
      "display_name": "Python 3"
    }
  },
  "cells": [
    {
      "cell_type": "markdown",
      "metadata": {
        "id": "view-in-github",
        "colab_type": "text"
      },
      "source": [
        "<a href=\"https://colab.research.google.com/github/putriifeb06/ML-TK-42-ANDI-PUTRI-FEBRIANTI/blob/main/Final%20Exam/UAS_regularization.ipynb\" target=\"_parent\"><img src=\"https://colab.research.google.com/assets/colab-badge.svg\" alt=\"Open In Colab\"/></a>"
      ]
    },
    {
      "metadata": {
        "id": "chyfoNdmPE4O"
      },
      "cell_type": "code",
      "source": [
        "import keras\n",
        "from keras.layers import Dense, Input, BatchNormalization\n",
        "from keras.initializers import constant\n",
        "from keras.regularizers import l1, l2\n",
        "from keras.models import Model\n",
        "import keras.backend as K\n",
        "\n",
        "import numpy as np"
      ],
      "execution_count": null,
      "outputs": []
    },
    {
      "metadata": {
        "id": "biTxyH_jPFg_",
        "colab": {
          "base_uri": "https://localhost:8080/"
        },
        "outputId": "47a4707f-2388-4865-ae37-397c42bf0202"
      },
      "cell_type": "code",
      "source": [
        "K.clear_session()\n",
        "\n",
        "input = Input([1])\n",
        "output = Dense(1, kernel_initializer=constant(2), bias_initializer=constant(1))(input)\n",
        "# output = BatchNormalization(center=False, scale=False)(output)\n",
        "model = Model(input, output)\n",
        "model.summary()"
      ],
      "execution_count": null,
      "outputs": [
        {
          "output_type": "stream",
          "name": "stdout",
          "text": [
            "Model: \"model\"\n",
            "_________________________________________________________________\n",
            " Layer (type)                Output Shape              Param #   \n",
            "=================================================================\n",
            " input_1 (InputLayer)        [(None, 1)]               0         \n",
            "                                                                 \n",
            " dense (Dense)               (None, 1)                 2         \n",
            "                                                                 \n",
            "=================================================================\n",
            "Total params: 2\n",
            "Trainable params: 2\n",
            "Non-trainable params: 0\n",
            "_________________________________________________________________\n"
          ]
        }
      ]
    },
    {
      "metadata": {
        "id": "_9Q09E3AZt7_",
        "colab": {
          "base_uri": "https://localhost:8080/"
        },
        "outputId": "d2356398-e543-4009-a55c-3a5aa70171f9"
      },
      "cell_type": "code",
      "source": [
        "K.clear_session()\n",
        "\n",
        "input = Input([1])\n",
        "output = BatchNormalization(center=False, scale=False, momentum=0, epsilon=0)(input)\n",
        "model = Model(input, output)\n",
        "model.summary()"
      ],
      "execution_count": null,
      "outputs": [
        {
          "output_type": "stream",
          "name": "stdout",
          "text": [
            "Model: \"model\"\n",
            "_________________________________________________________________\n",
            " Layer (type)                Output Shape              Param #   \n",
            "=================================================================\n",
            " input_1 (InputLayer)        [(None, 1)]               0         \n",
            "                                                                 \n",
            " batch_normalization (BatchN  (None, 1)                2         \n",
            " ormalization)                                                   \n",
            "                                                                 \n",
            "=================================================================\n",
            "Total params: 2\n",
            "Trainable params: 0\n",
            "Non-trainable params: 2\n",
            "_________________________________________________________________\n"
          ]
        }
      ]
    },
    {
      "metadata": {
        "id": "GHSw5dTVWuRC",
        "colab": {
          "base_uri": "https://localhost:8080/"
        },
        "outputId": "2cedfa25-ac88-45d2-ec98-92b6939bcad1"
      },
      "cell_type": "code",
      "source": [
        "x = 1, 2\n",
        "x = np.reshape(np.array(x), (2, 1))\n",
        "\n",
        "y_pred = model.predict(x)\n",
        "print(*y_pred)"
      ],
      "execution_count": null,
      "outputs": [
        {
          "output_type": "stream",
          "name": "stdout",
          "text": [
            "[1.] [2.]\n"
          ]
        }
      ]
    },
    {
      "metadata": {
        "id": "M_jLBZHbgEd0",
        "colab": {
          "base_uri": "https://localhost:8080/"
        },
        "outputId": "1dc27000-c2c3-4bf8-8ecc-01abe87d41b5"
      },
      "cell_type": "code",
      "source": [
        "print(*model.get_weights())"
      ],
      "execution_count": null,
      "outputs": [
        {
          "output_type": "stream",
          "name": "stdout",
          "text": [
            "[0.] [1.]\n"
          ]
        }
      ]
    },
    {
      "metadata": {
        "id": "5nLc-D3-hsMF"
      },
      "cell_type": "code",
      "source": [
        "model.compile('sgd', 'mae')\n",
        "t = model.train_on_batch(x, x)"
      ],
      "execution_count": null,
      "outputs": []
    },
    {
      "metadata": {
        "id": "Tq1zvAvFjdKk"
      },
      "cell_type": "markdown",
      "source": [
        "mean:\n",
        "$$\\bar x=\\frac{\\sum^N_{i=1}x_i}{N}$$\n",
        "standard deviation:\n",
        "$$\\sigma=\\sqrt{\\frac{\\sum^N_{i=1}(x_i-\\bar x)^2}{N-1}}$$\n",
        "variance:\n",
        "$$Var=\\sigma^2$$"
      ]
    },
    {
      "metadata": {
        "id": "tkCUYIyMigWX",
        "colab": {
          "base_uri": "https://localhost:8080/"
        },
        "outputId": "595dfc3b-4af1-4c80-efde-4babb3c821a6"
      },
      "cell_type": "code",
      "source": [
        "h = np.array([1, 2])  # y_pred\n",
        "mean = np.sum(h) / len(h)\n",
        "std = np.sqrt(np.sum(np.square(h - mean)) / (len(h) - 1))\n",
        "var = std**2\n",
        "print('mean: %.2f\\nstd: %.3f\\nvar: %.2f' % (mean, std, var))"
      ],
      "execution_count": null,
      "outputs": [
        {
          "output_type": "stream",
          "name": "stdout",
          "text": [
            "mean: 1.50\n",
            "std: 0.707\n",
            "var: 0.50\n"
          ]
        }
      ]
    },
    {
      "metadata": {
        "id": "37fcO_ZCV7Zr"
      },
      "cell_type": "markdown",
      "source": [
        "## L1 and L2 regularization"
      ]
    },
    {
      "metadata": {
        "id": "GlIHA4_bPHT0",
        "colab": {
          "base_uri": "https://localhost:8080/"
        },
        "outputId": "cd3d4eba-4801-4722-b945-5ebdf9f0bf45"
      },
      "cell_type": "code",
      "source": [
        "K.clear_session()\n",
        "\n",
        "input = Input([1])\n",
        "output = Dense(1, kernel_initializer=constant(2), bias_initializer=constant(1),\n",
        "               kernel_regularizer=None, bias_regularizer=None, activity_regularizer=None)(input)\n",
        "model = Model(input, output)\n",
        "model.summary()"
      ],
      "execution_count": null,
      "outputs": [
        {
          "output_type": "stream",
          "name": "stdout",
          "text": [
            "Model: \"model\"\n",
            "_________________________________________________________________\n",
            " Layer (type)                Output Shape              Param #   \n",
            "=================================================================\n",
            " input_1 (InputLayer)        [(None, 1)]               0         \n",
            "                                                                 \n",
            " dense (Dense)               (None, 1)                 2         \n",
            "                                                                 \n",
            "=================================================================\n",
            "Total params: 2\n",
            "Trainable params: 2\n",
            "Non-trainable params: 0\n",
            "_________________________________________________________________\n"
          ]
        }
      ]
    },
    {
      "metadata": {
        "id": "-F5C2XTmP41e",
        "colab": {
          "base_uri": "https://localhost:8080/"
        },
        "outputId": "22039d90-9a48-4ab9-b5a7-9c50a378f9c0"
      },
      "cell_type": "code",
      "source": [
        "x = 2\n",
        "y_pred = model.predict(np.array((x,)))\n",
        "y_pred[0, 0]"
      ],
      "execution_count": null,
      "outputs": [
        {
          "output_type": "execute_result",
          "data": {
            "text/plain": [
              "5.0"
            ]
          },
          "metadata": {},
          "execution_count": 9
        }
      ]
    },
    {
      "metadata": {
        "id": "ghlKSye83tmX",
        "colab": {
          "base_uri": "https://localhost:8080/"
        },
        "outputId": "56cd6680-c63b-48d7-da63-4de9214dfe4a"
      },
      "cell_type": "code",
      "source": [
        "x, y = 2, 5\n",
        "x, y = np.array((x,)), np.array((y,))\n",
        "model.compile('sgd', 'mae')\n",
        "loss = model.evaluate(x, y, verbose=0)\n",
        "print(loss)"
      ],
      "execution_count": null,
      "outputs": [
        {
          "output_type": "stream",
          "name": "stdout",
          "text": [
            "0.0\n"
          ]
        }
      ]
    },
    {
      "metadata": {
        "id": "0q4DsP1513rm",
        "colab": {
          "base_uri": "https://localhost:8080/"
        },
        "outputId": "03859262-f459-419b-8007-e755fbe052ae"
      },
      "cell_type": "code",
      "source": [
        "K.clear_session()\n",
        "\n",
        "input = Input([1])\n",
        "output = Dense(1, kernel_initializer=constant(2), bias_initializer=constant(1),\n",
        "               kernel_regularizer=None, bias_regularizer=None, activity_regularizer=l1(1))(input)\n",
        "model = Model(input, output)\n",
        "model.summary()"
      ],
      "execution_count": null,
      "outputs": [
        {
          "output_type": "stream",
          "name": "stdout",
          "text": [
            "Model: \"model\"\n",
            "_________________________________________________________________\n",
            " Layer (type)                Output Shape              Param #   \n",
            "=================================================================\n",
            " input_1 (InputLayer)        [(None, 1)]               0         \n",
            "                                                                 \n",
            " dense (Dense)               (None, 1)                 2         \n",
            "                                                                 \n",
            "=================================================================\n",
            "Total params: 2\n",
            "Trainable params: 2\n",
            "Non-trainable params: 0\n",
            "_________________________________________________________________\n"
          ]
        }
      ]
    },
    {
      "metadata": {
        "id": "hov6wKB0QNBv",
        "colab": {
          "base_uri": "https://localhost:8080/"
        },
        "outputId": "f43df0d0-ca04-44e6-cf63-d20b17d72b01"
      },
      "cell_type": "code",
      "source": [
        "x = 2\n",
        "y_pred = model.predict(np.array((x,)))\n",
        "y_pred[0, 0]"
      ],
      "execution_count": null,
      "outputs": [
        {
          "output_type": "execute_result",
          "data": {
            "text/plain": [
              "5.0"
            ]
          },
          "metadata": {},
          "execution_count": 12
        }
      ]
    },
    {
      "metadata": {
        "id": "9_FCw6NE5VUB"
      },
      "cell_type": "markdown",
      "source": [
        "However, the loss this time is different. this happens because the new loss is:\n",
        "$$new\\_loss=loss+regularization$$\n",
        "where in our case the regularization is:\n",
        "$$l_1(a)=\\sum{w\\cdot|a|}$$\n",
        "\n",
        "where $w$ is the argument we define in the $l1()$ function\n",
        "\n",
        "Similarly, we have:\n",
        "$$l_2(a)=\\sum{w\\cdot a^2}$$"
      ]
    },
    {
      "metadata": {
        "id": "PuTOZHgOQyKa",
        "colab": {
          "base_uri": "https://localhost:8080/"
        },
        "outputId": "6d114d7b-79bb-4d64-fd92-745492ccc818"
      },
      "cell_type": "code",
      "source": [
        "x, y = 2, 5\n",
        "x, y = np.array((x,)), np.array((y,))\n",
        "model.compile('sgd', 'mae')\n",
        "loss = model.evaluate(x, y, verbose=0)\n",
        "print(loss)"
      ],
      "execution_count": null,
      "outputs": [
        {
          "output_type": "stream",
          "name": "stdout",
          "text": [
            "5.0\n"
          ]
        }
      ]
    }
  ]
}