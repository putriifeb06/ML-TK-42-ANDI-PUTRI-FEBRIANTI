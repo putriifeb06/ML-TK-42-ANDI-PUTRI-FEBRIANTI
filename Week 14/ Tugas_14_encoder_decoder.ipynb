{
  "cells": [
    {
      "cell_type": "markdown",
      "metadata": {
        "id": "view-in-github",
        "colab_type": "text"
      },
      "source": [
        "<a href=\"https://colab.research.google.com/github/putriifeb06/ML-TK-42-ANDI-PUTRI-FEBRIANTI/blob/main/Week%2014/%20Tugas_14_encoder_decoder.ipynb\" target=\"_parent\"><img src=\"https://colab.research.google.com/assets/colab-badge.svg\" alt=\"Open In Colab\"/></a>"
      ]
    },
    {
      "cell_type": "markdown",
      "metadata": {
        "origin_pos": 0,
        "id": "XtXbEckZn5eM"
      },
      "source": [
        "# Encoder-Decoder Architecture\n",
        "## (**Encoder**)\n",
        "\n",
        "In the encoder interface,\n",
        "we just specify that\n",
        "the encoder takes variable-length sequences as the input `X`.\n",
        "The implementation will be provided \n",
        "by any model that inherits this base `Encoder` class.\n"
      ]
    },
    {
      "cell_type": "code",
      "source": [
        "pip install mxnet"
      ],
      "metadata": {
        "colab": {
          "base_uri": "https://localhost:8080/"
        },
        "id": "WRqhkRwmvG0F",
        "outputId": "e3689e7b-b103-4b51-e34b-bfe3b17e4c98"
      },
      "execution_count": 5,
      "outputs": [
        {
          "output_type": "stream",
          "name": "stdout",
          "text": [
            "Looking in indexes: https://pypi.org/simple, https://us-python.pkg.dev/colab-wheels/public/simple/\n",
            "Collecting mxnet\n",
            "  Downloading mxnet-1.9.1-py3-none-manylinux2014_x86_64.whl (49.1 MB)\n",
            "\u001b[K     |████████████████████████████████| 49.1 MB 1.2 MB/s \n",
            "\u001b[?25hCollecting graphviz<0.9.0,>=0.8.1\n",
            "  Downloading graphviz-0.8.4-py2.py3-none-any.whl (16 kB)\n",
            "Requirement already satisfied: requests<3,>=2.20.0 in /usr/local/lib/python3.7/dist-packages (from mxnet) (2.23.0)\n",
            "Requirement already satisfied: numpy<2.0.0,>1.16.0 in /usr/local/lib/python3.7/dist-packages (from mxnet) (1.21.6)\n",
            "Requirement already satisfied: idna<3,>=2.5 in /usr/local/lib/python3.7/dist-packages (from requests<3,>=2.20.0->mxnet) (2.10)\n",
            "Requirement already satisfied: urllib3!=1.25.0,!=1.25.1,<1.26,>=1.21.1 in /usr/local/lib/python3.7/dist-packages (from requests<3,>=2.20.0->mxnet) (1.24.3)\n",
            "Requirement already satisfied: chardet<4,>=3.0.2 in /usr/local/lib/python3.7/dist-packages (from requests<3,>=2.20.0->mxnet) (3.0.4)\n",
            "Requirement already satisfied: certifi>=2017.4.17 in /usr/local/lib/python3.7/dist-packages (from requests<3,>=2.20.0->mxnet) (2022.6.15)\n",
            "Installing collected packages: graphviz, mxnet\n",
            "  Attempting uninstall: graphviz\n",
            "    Found existing installation: graphviz 0.10.1\n",
            "    Uninstalling graphviz-0.10.1:\n",
            "      Successfully uninstalled graphviz-0.10.1\n",
            "Successfully installed graphviz-0.8.4 mxnet-1.9.1\n"
          ]
        }
      ]
    },
    {
      "cell_type": "code",
      "execution_count": 6,
      "metadata": {
        "origin_pos": 1,
        "tab": [
          "mxnet"
        ],
        "id": "lNiSN3nTn5e5"
      },
      "outputs": [],
      "source": [
        "from mxnet.gluon import nn\n",
        "\n",
        "class Encoder(nn.Block):\n",
        "    \"\"\"The base encoder interface for the encoder-decoder architecture.\"\"\"\n",
        "    def __init__(self, **kwargs):\n",
        "        super(Encoder, self).__init__(**kwargs)\n",
        "\n",
        "    def forward(self, X, *args):\n",
        "        raise NotImplementedError"
      ]
    },
    {
      "cell_type": "markdown",
      "metadata": {
        "origin_pos": 4,
        "id": "RGttb_cMn5e8"
      },
      "source": [
        "## [**Decoder**]\n",
        "\n",
        "In the following decoder interface,\n",
        "we add an additional `init_state` function\n",
        "to convert the encoder output (`enc_outputs`)\n",
        "into the encoded state.\n",
        "Note that this step\n",
        "may need extra inputs such as \n",
        "the valid length of the input,\n",
        "which was explained\n",
        "in :numref:`subsec_mt_data_loading`.\n",
        "To generate a variable-length sequence token by token,\n",
        "every time the decoder\n",
        "may map an input (e.g., the generated token at the previous time step)\n",
        "and the encoded state\n",
        "into an output token at the current time step.\n"
      ]
    },
    {
      "cell_type": "code",
      "execution_count": 7,
      "metadata": {
        "origin_pos": 5,
        "tab": [
          "mxnet"
        ],
        "id": "W19K_-jXn5e9"
      },
      "outputs": [],
      "source": [
        "class Decoder(nn.Block):\n",
        "    \"\"\"The base decoder interface for the encoder-decoder architecture.\"\"\"\n",
        "    def __init__(self, **kwargs):\n",
        "        super(Decoder, self).__init__(**kwargs)\n",
        "\n",
        "    def init_state(self, enc_outputs, *args):\n",
        "        raise NotImplementedError\n",
        "\n",
        "    def forward(self, X, state):\n",
        "        raise NotImplementedError"
      ]
    },
    {
      "cell_type": "markdown",
      "metadata": {
        "origin_pos": 8,
        "id": "WPqq5eXQn5e_"
      },
      "source": [
        "## [**Putting the Encoder and Decoder Together**]\n",
        "\n",
        "In the end,\n",
        "the encoder-decoder architecture\n",
        "contains both an encoder and a decoder,\n",
        "with optionally extra arguments.\n",
        "In the forward propagation,\n",
        "the output of the encoder\n",
        "is used to produce the encoded state,\n",
        "and this state\n",
        "will be further used by the decoder as one of its input.\n"
      ]
    },
    {
      "cell_type": "code",
      "execution_count": 8,
      "metadata": {
        "origin_pos": 9,
        "tab": [
          "mxnet"
        ],
        "id": "psd_6VcEn5fC"
      },
      "outputs": [],
      "source": [
        "class EncoderDecoder(nn.Block):\n",
        "    \"\"\"The base class for the encoder-decoder architecture.\"\"\"\n",
        "    def __init__(self, encoder, decoder, **kwargs):\n",
        "        super(EncoderDecoder, self).__init__(**kwargs)\n",
        "        self.encoder = encoder\n",
        "        self.decoder = decoder\n",
        "\n",
        "    def forward(self, enc_X, dec_X, *args):\n",
        "        enc_outputs = self.encoder(enc_X, *args)\n",
        "        dec_state = self.decoder.init_state(enc_outputs, *args)\n",
        "        return self.decoder(dec_X, dec_state)"
      ]
    },
    {
      "cell_type": "markdown",
      "metadata": {
        "origin_pos": 12,
        "id": "Okl9ocNrn5fF"
      },
      "source": [
        "The term \"state\" in the encoder-decoder architecture\n",
        "has probably inspired you to implement this\n",
        "architecture using neural networks with states.\n",
        "In the next section,\n",
        "we will see how to apply RNNs to design \n",
        "sequence transduction models based on \n",
        "this encoder-decoder architecture.\n",
        "\n",
        "\n",
        "## Summary\n",
        "\n",
        "* The encoder-decoder architecture can handle inputs and outputs that are both variable-length sequences, thus is suitable for sequence transduction problems such as machine translation.\n",
        "* The encoder takes a variable-length sequence as the input and transforms it into a state with a fixed shape.\n",
        "* The decoder maps the encoded state of a fixed shape to a variable-length sequence.\n",
        "\n",
        "\n",
        "## Exercises\n",
        "\n",
        "1. Suppose that we use neural networks to implement the encoder-decoder architecture. Do the encoder and the decoder have to be the same type of neural network?  \n",
        "1. Besides machine translation, can you think of another application where the encoder-decoder architecture can be applied?\n"
      ]
    },
    {
      "cell_type": "markdown",
      "source": [
        "##Answer Exercises\n",
        "1. I think, encoder and decoder should be the same kind of neural network because the output of the encoder is used to generate the encoded state, and this state will be further used by the decoder as one of its inputs.\n",
        "2. Besides machine translation, the implementation of encoder-decoder architecture can be applied in medical applications."
      ],
      "metadata": {
        "id": "aJcEXWmBrPcK"
      }
    }
  ],
  "metadata": {
    "kernelspec": {
      "display_name": "Python 3",
      "name": "python3"
    },
    "language_info": {
      "name": "python"
    },
    "colab": {
      "name": "Tugas 14 encoder-decoder.ipynb",
      "provenance": [],
      "include_colab_link": true
    }
  },
  "nbformat": 4,
  "nbformat_minor": 0
}